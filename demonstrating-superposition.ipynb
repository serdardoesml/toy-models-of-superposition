{
 "cells": [
  {
   "cell_type": "markdown",
   "id": "6e394f30",
   "metadata": {},
   "source": [
    "Imports and data generation function definitions"
   ]
  },
  {
   "cell_type": "code",
   "execution_count": 411,
   "id": "feb574ab",
   "metadata": {},
   "outputs": [],
   "source": [
    "import numpy as np\n",
    "\n",
    "def sparsify_data(x, s):\n",
    "    if s >= 1:\n",
    "        return 0\n",
    "    x -= s\n",
    "    x *= (x > 0) / (1 - s)\n",
    "    return x\n",
    "    \n",
    "def generate_data(dcount, fcount, s):\n",
    "    data = np.random.rand(dcount,fcount)\n",
    "    np.apply_along_axis(lambda x: sparsify_data(x, s), axis=0, arr=data)\n",
    "    return data\n",
    "\n",
    "def generate_importance_vector(fcount, base):\n",
    "    result = []\n",
    "    for i in range(fcount):\n",
    "        result.append(base**i)\n",
    "    return np.array(result)"
   ]
  },
  {
   "cell_type": "markdown",
   "id": "9b23b11d",
   "metadata": {},
   "source": [
    "Defining parametes and generating a dataset of 100 vectors with 20 features and a sparsity of 0.9"
   ]
  },
  {
   "cell_type": "code",
   "execution_count": 412,
   "id": "926241cd",
   "metadata": {},
   "outputs": [],
   "source": [
    "data_count = 12800000 # Amount of data vectors\n",
    "feature_count = 20 # Dimensionality of each data vector\n",
    "neuron_count= 5 # Dimensionality of the hidden layer (Amount of hidden layer neurons)\n",
    "\n",
    "sparsity = 0.99\n",
    "importance_base = 0.7\n",
    "\n",
    "data = generate_data(data_count, feature_count, sparsity)\n",
    "importance_vec = generate_importance_vector(feature_count, importance_base)"
   ]
  },
  {
   "cell_type": "markdown",
   "id": "232a40b8",
   "metadata": {},
   "source": [
    "Training the model"
   ]
  },
  {
   "cell_type": "code",
   "execution_count": null,
   "id": "c240b6c8",
   "metadata": {},
   "outputs": [],
   "source": [
    "import torch\n",
    "\n",
    "device = torch.device(\"cpu\")\n",
    "\n",
    "# Initialize weights randomly, one set for linear and one set for with ReLU\n",
    "W1 = torch.randn(feature_count, neuron_count, dtype=torch.float32, device=device).abs() * 0.1\n",
    "b1 = torch.ones(feature_count, dtype=torch.float32, device=device) * 0.5\n",
    "W1.requires_grad_()\n",
    "b1.requires_grad_()\n",
    "\n",
    "\n",
    "W2 = torch.randn(feature_count, neuron_count, dtype=torch.float32, device=device).abs() * 0.1\n",
    "b2 = torch.ones(feature_count, dtype=torch.float32, device=device) * 0.5\n",
    "W2.requires_grad_()\n",
    "b2.requires_grad_()\n",
    "\n",
    "X = torch.from_numpy(data.astype(np.float32)).to(device)\n",
    "imp = torch.from_numpy(importance_vec.astype(np.float32)).to(device)\n",
    "\n",
    "lr = 1\n",
    "batch_size=64\n",
    "shuffle=True\n",
    "\n",
    "def forward(x, W, b, relu=False):\n",
    "    h = torch.matmul(x, W)\n",
    "    o = torch.matmul(h, W.t()) + b\n",
    "\n",
    "    if relu:\n",
    "        o = torch.relu(o)\n",
    "\n",
    "    return o\n",
    "\n",
    "def train(X, imp, W, b, relu):\n",
    "    n = X.size(0)\n",
    "\n",
    "    idx = torch.randperm(n) if shuffle else torch.arange(n)\n",
    "    for start in range(0, n, batch_size):\n",
    "        batch_idx = idx[start:start+batch_size]\n",
    "        x = X[batch_idx]\n",
    "        o = forward(x, W, b, relu=relu)\n",
    "        loss = (((x - o) ** 2) * imp).mean()\n",
    "\n",
    "        loss.backward()\n",
    "        with torch.no_grad():\n",
    "            W -= lr * W.grad\n",
    "            b -= lr * b.grad\n",
    "            W.grad.zero_()\n",
    "            b.grad.zero_()\n",
    "\n",
    "    trained_w = W.detach().numpy()\n",
    "    trained_b = b.detach().numpy()\n",
    "    return [trained_w, trained_b]\n",
    "\n",
    "result_linear = train(X, imp, W1, b1, False)\n",
    "result_linear[0] = result_linear[0] @ result_linear[0].T\n",
    "result_relu = train(X, imp, W2, b2, True)\n",
    "result_relu[0] = result_relu[0] @ result_relu[0].T\n",
    "\n"
   ]
  },
  {
   "cell_type": "markdown",
   "id": "2dca7378",
   "metadata": {},
   "source": [
    "Visualizing the result"
   ]
  },
  {
   "cell_type": "code",
   "execution_count": 414,
   "id": "09fe0949",
   "metadata": {},
   "outputs": [
    {
     "data": {
      "image/png": "[encoded data removed]",
      "text/plain": [
       "<Figure size 1200x400 with 5 Axes>"
      ]
     },
     "metadata": {},
     "output_type": "display_data"
    }
   ],
   "source": [
    "import matplotlib.pyplot as plt\n",
    "\n",
    "all_values = [\n",
    "    result_linear[0],\n",
    "    result_linear[1].reshape(-1, 1),\n",
    "    result_relu[0],\n",
    "    result_relu[1].reshape(-1, 1),\n",
    "]\n",
    "vmin = -1\n",
    "vmax = 1\n",
    "\n",
    "fig, axes = plt.subplots(1, 5, figsize=(12, 4), gridspec_kw={\"width_ratios\": [4, 0.5, 0.2, 4, 0.5]})\n",
    "plots = [\n",
    "    (\"Linear Output\", result_linear[0], \"Linear Bias\", result_linear[1]),\n",
    "    (\"ReLU Output\", result_relu[0], \"ReLU Bias\", result_relu[1]),\n",
    "]\n",
    "\n",
    "main_axes = [axes[0], axes[3]]\n",
    "bias_axes = [axes[1], axes[4]]\n",
    "colorbar_ax = axes[2]\n",
    "reference_image = None\n",
    "\n",
    "for idx, (title, values, bias_title, bias_values) in enumerate(plots):\n",
    "    ax_img = main_axes[idx]\n",
    "    im = ax_img.imshow(values, cmap=\"viridis\", interpolation=\"nearest\", vmin=vmin, vmax=vmax)\n",
    "    ax_img.set_title(title)\n",
    "    ax_img.axis(\"off\")\n",
    "    if reference_image is None:\n",
    "        reference_image = im\n",
    "\n",
    "    ax_bias = bias_axes[idx]\n",
    "    bias_column = np.asarray(bias_values).reshape(-1, 1)\n",
    "    ax_bias.imshow(bias_column, cmap=\"viridis\", aspect=\"auto\", interpolation=\"nearest\", vmin=vmin, vmax=vmax)\n",
    "    ax_bias.set_title(bias_title)\n",
    "    ax_bias.set_xticks([])\n",
    "    ax_bias.set_yticks([])\n",
    "\n",
    "fig.colorbar(reference_image, cax=colorbar_ax)\n",
    "colorbar_ax.set_title(\"Scale\", pad=8)\n",
    "\n",
    "plt.tight_layout()\n",
    "plt.show()\n",
    "\n"
   ]
  },
  {
   "cell_type": "markdown",
   "id": "3c554473",
   "metadata": {},
   "source": [
    "## Conclusions\n",
    "\n",
    "We can clearly replicate the results of the original experiment with enough data.\n",
    "\n",
    "Generally, the weights should be initialized low, and the biases should be initialized at the mean value for non-sparse features (0.5)\n",
    "\n",
    "Increasing weight initialization scale seems to behave similarly to raising the learning rate. For most stable results, lr=1 and weight initial scale 0.1 seems to work best.\n",
    "\n",
    "The more sparsity, the more data we need. The more batch size, the more data we need. \n",
    "\n",
    "Batch size effects seem to balance out by increasing training data linearly, resulting in roughly the same training speed. A batch size of 64 and 200k batches seem to work best. \n",
    "\n",
    "Higher batch sizes with consistent batch count could be tried, but while training speed stays roughly constant, training data generation time increases linearly, and doesn't provide much benefit."
   ]
  }
 ],
 "metadata": {
  "kernelspec": {
   "display_name": ".venv (3.13.5)",
   "language": "python",
   "name": "python3"
  },
  "language_info": {
   "codemirror_mode": {
    "name": "ipython",
    "version": 3
   },
   "file_extension": ".py",
   "mimetype": "text/x-python",
   "name": "python",
   "nbconvert_exporter": "python",
   "pygments_lexer": "ipython3",
   "version": "3.13.5"
  }
 },
 "nbformat": 4,
 "nbformat_minor": 5
}
